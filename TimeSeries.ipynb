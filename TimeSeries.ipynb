{
 "cells": [
  {
   "cell_type": "code",
   "execution_count": 1,
   "metadata": {},
   "outputs": [
    {
     "data": {
      "application/vnd.jupyter.widget-view+json": {
       "model_id": "",
       "version_major": 2,
       "version_minor": 0
      },
      "method": "display_data"
     },
     "metadata": {},
     "output_type": "display_data"
    },
    {
     "data": {
      "application/vnd.jupyter.widget-view+json": {
       "model_id": "6276fd75-3f4a-4e1a-94fc-cd4a022cabe0",
       "version_major": 2,
       "version_minor": 0
      },
      "method": "display_data"
     },
     "metadata": {},
     "output_type": "display_data"
    }
   ],
   "source": [
    "%%classpath add mvn\n",
    "com.github.twosigma flint master-SNAPSHOT\n",
    "org.apache.spark spark-sql_2.11 2.2.1\n",
    "org.vegas-viz vegas_2.11 0.3.11\n",
    "org.vegas-viz vegas-spark_2.11 0.3.11"
   ]
  },
  {
   "cell_type": "code",
   "execution_count": 3,
   "metadata": {},
   "outputs": [
    {
     "data": {
      "application/vnd.jupyter.widget-view+json": {
       "model_id": "d23375fe-1be2-4b30-8a41-a905ebd6726b",
       "version_major": 2,
       "version_minor": 0
      },
      "method": "display_data"
     },
     "metadata": {},
     "output_type": "display_data"
    }
   ],
   "source": [
    "%%spark"
   ]
  },
  {
   "cell_type": "code",
   "execution_count": 4,
   "metadata": {},
   "outputs": [
    {
     "data": {
      "text/plain": [
       "org.apache.spark.SparkContext@236cbafc"
      ]
     },
     "execution_count": 4,
     "metadata": {},
     "output_type": "execute_result"
    }
   ],
   "source": [
    "val sc = spark.sparkContext\n"
   ]
  },
  {
   "cell_type": "code",
   "execution_count": 5,
   "metadata": {},
   "outputs": [
    {
     "data": {
      "text/plain": [
       "import org.apache.spark.sql.types._\n",
       "import org.apache.spark.sql.Row\n",
       "import com.twosigma.flint.timeseries.Windows\n",
       "import com.twosigma.flint.timeseries.Summarizers\n",
       "import scala.concurrent.duration._\n",
       "import com.twosigma.flint.timeseries._\n"
      ]
     },
     "execution_count": 5,
     "metadata": {},
     "output_type": "execute_result"
    }
   ],
   "source": [
    "import org.apache.spark.sql.types._\n",
    "import org.apache.spark.sql.Row\n",
    "//import com.twosigma.flint.timeseries.io.read\n",
    "import com.twosigma.flint.timeseries.Windows\n",
    "import com.twosigma.flint.timeseries.Summarizers\n",
    "import scala.concurrent.duration._\n",
    "//import com.twosigma.flint.timeseries.implicits._\n",
    "import com.twosigma.flint.timeseries._"
   ]
  },
  {
   "cell_type": "code",
   "execution_count": 6,
   "metadata": {},
   "outputs": [
    {
     "data": {
      "text/plain": [
       "preview: (tsRdd: com.twosigma.flint.timeseries.TimeSeriesRDD, num: Integer)com.twosigma.beakerx.scala.table.TableDisplay\n"
      ]
     },
     "execution_count": 6,
     "metadata": {},
     "output_type": "execute_result"
    }
   ],
   "source": [
    "def preview(tsRdd: TimeSeriesRDD, num: Integer = 5) : TableDisplay = {\n",
    "    val cols = tsRdd.schema.fieldNames\n",
    "    val rows = tsRdd.toDF.take(num)\n",
    "    val listOfMaps = rows.map {r => (cols zip r.toSeq).toMap}\n",
    "    val display = new TableDisplay(listOfMaps)\n",
    "    return display\n",
    "}"
   ]
  },
  {
   "cell_type": "code",
   "execution_count": 7,
   "metadata": {},
   "outputs": [
    {
     "data": {
      "application/vnd.jupyter.widget-view+json": {
       "model_id": "1a219a0e-03e4-41a2-b2a5-00f1124e68aa",
       "version_major": 2,
       "version_minor": 0
      },
      "method": "display_data"
     },
     "metadata": {},
     "output_type": "display_data"
    },
    {
     "data": {
      "application/vnd.jupyter.widget-view+json": {
       "model_id": "094dffc0-7d43-4f63-af87-cd23d6c114d8",
       "version_major": 2,
       "version_minor": 0
      },
      "method": "display_data"
     },
     "metadata": {},
     "output_type": "display_data"
    }
   ],
   "source": [
    "import com.twosigma.flint.timeseries.CSV\n",
    "\n",
    "//Load prices.csv from https://www.kaggle.com/dgawlik/nyse\n",
    "\n",
    "//Creates a TimeSeriesRDD from a CSV file\n",
    "var pricesRdd = CSV.from(\n",
    "  spark.sqlContext,\n",
    "  \"data/uniMelb.csv\",\n",
    "    //\"file:///tmp/prices.csv\",\n",
    "  header = true,\n",
    "  timeColumnName = \"time\",  \n",
    "  dateFormat = \"EEEE dd/MM/yyyy HH:mm:ss a\",\n",
    "  sorted = false\n",
    ")\n",
    "preview(pricesRdd)"
   ]
  },
  {
   "cell_type": "code",
   "execution_count": 9,
   "metadata": {},
   "outputs": [
    {
     "ename": "<console>",
     "evalue": "112",
     "output_type": "error",
     "traceback": [
      "\u001b[1;31m<console>:112: error: type mismatch;\u001b[0;0m",
      "\u001b[1;31m found   : com.twosigma.flint.timeseries.TimeSeriesRDD\u001b[0;0m",
      "\u001b[1;31m required: org.apache.spark.sql.DataFrame\u001b[0;0m",
      "\u001b[1;31m    (which expands to)  org.apache.spark.sql.Dataset[org.apache.spark.sql.Row]\u001b[0;0m",
      "\u001b[1;31m       withDataFrame(pricesRdd).\u001b[0;0m",
      "\u001b[1;31m                     ^\u001b[0;0m"
     ]
    }
   ],
   "source": [
    "import vegas.sparkExt._\n",
    "\n",
    "import vegas._\n",
    "//import vegas.render.WindowRenderer._\n",
    "import vegas.data.External._\n",
    "\n",
    "//implicit val render = vegas.render.ShowHTML\n",
    "\n",
    "/*val plot = Vegas(\"Country Pop\").\n",
    "  withDataFrame(pricesRdd).\n",
    "  encodeX(\"time\", Temp).\n",
    "  encodeY(\"flow\", Quant).\n",
    "  mark(Bar)*/"
   ]
  },
  {
   "cell_type": "code",
   "execution_count": null,
   "metadata": {},
   "outputs": [],
   "source": []
  }
 ],
 "metadata": {
  "kernelspec": {
   "display_name": "Scala",
   "language": "scala",
   "name": "scala"
  },
  "language_info": {
   "codemirror_mode": "text/x-scala",
   "file_extension": ".scala",
   "mimetype": "",
   "name": "Scala",
   "nbconverter_exporter": "",
   "version": "2.11.12"
  },
  "toc": {
   "base_numbering": 1,
   "nav_menu": {},
   "number_sections": false,
   "sideBar": false,
   "skip_h1_title": false,
   "title_cell": "Table of Contents",
   "title_sidebar": "Contents",
   "toc_cell": false,
   "toc_position": {},
   "toc_section_display": false,
   "toc_window_display": false
  }
 },
 "nbformat": 4,
 "nbformat_minor": 2
}
